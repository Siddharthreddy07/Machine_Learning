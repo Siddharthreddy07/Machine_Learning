{
 "cells": [
  {
   "cell_type": "code",
   "execution_count": 1,
   "metadata": {},
   "outputs": [],
   "source": [
    "import pandas as pd\n",
    "import numpy as np\n",
    "import matplotlib.pyplot as plt\n",
    "from sklearn.model_selection import train_test_split"
   ]
  },
  {
   "cell_type": "code",
   "execution_count": 5,
   "metadata": {},
   "outputs": [],
   "source": [
    "data=pd.read_csv(r'C:\\Users\\siddh\\Desktop\\1\\ML_Task\\winequality-red.csv', header=0)\n",
    "data = (data - data.mean())/data.std()\n",
    "x = data.iloc[:,0:11]\n",
    "y=data[\"quality\"]\n",
    "xtrain,xtest,ytrain,ytest=train_test_split(x,y,test_size=0.3,random_state=69)"
   ]
  },
  {
   "cell_type": "code",
   "execution_count": 6,
   "metadata": {},
   "outputs": [],
   "source": [
    "def CalcCost(x,y,w,b):\n",
    "    return np.sum(np.power((x.dot(w)-y),2))/(2*len(x))\n",
    "def GradDescent(x,y,w,b,alpha,iters):\n",
    "    costlist=[0]*iters\n",
    "    for iter in range(iters):\n",
    "        WeightGrad = x.T.dot(x.dot(w)+b-y)/len(x)\n",
    "        BiasGrad =np.sum(x.dot(w)+b-y)/len(x)\n",
    "        w=w-alpha*WeightGrad\n",
    "        b=b-alpha*BiasGrad\n",
    "        cost=CalcCost(x,y,w,b)\n",
    "        costlist[iter]=cost\n",
    "    return w,b,costlist\n",
    "w,b,c=GradDescent(xtrain,ytrain,np.zeros(xtrain.shape[1]),0,0.1,iters=500)"
   ]
  },
  {
   "cell_type": "code",
   "execution_count": 7,
   "metadata": {},
   "outputs": [
    {
     "name": "stdout",
     "output_type": "stream",
     "text": [
      "Accuracy is: 0.36943259813201523\n"
     ]
    }
   ],
   "source": [
    "def predict(x,w,b):\n",
    "    return x.dot(w)+b\n",
    "ypred=predict(xtest,w,b)\n",
    "def r2score(ypred, y):\n",
    "    rss = np.sum((ypred - y) ** 2)\n",
    "    tss = np.sum((y-y.mean()) ** 2)\n",
    "    r2 = 1 - (rss / tss)\n",
    "    print(\"Accuracy is:\",r2)\n",
    "r2score(ypred, ytest)"
   ]
  },
  {
   "cell_type": "code",
   "execution_count": 8,
   "metadata": {},
   "outputs": [
    {
     "data": {
      "text/plain": [
       "[<matplotlib.lines.Line2D at 0x1d05a84fad0>]"
      ]
     },
     "execution_count": 8,
     "metadata": {},
     "output_type": "execute_result"
    },
    {
     "data": {
      "image/png": "[encoded data removed]",
      "text/plain": [
       "<Figure size 640x480 with 1 Axes>"
      ]
     },
     "metadata": {},
     "output_type": "display_data"
    }
   ],
   "source": [
    "plt.plot(c)"
   ]
  },
  {
   "cell_type": "code",
   "execution_count": null,
   "metadata": {},
   "outputs": [],
   "source": []
  }
 ],
 "metadata": {
  "kernelspec": {
   "display_name": "Python 3",
   "language": "python",
   "name": "python3"
  },
  "language_info": {
   "codemirror_mode": {
    "name": "ipython",
    "version": 3
   },
   "file_extension": ".py",
   "mimetype": "text/x-python",
   "name": "python",
   "nbconvert_exporter": "python",
   "pygments_lexer": "ipython3",
   "version": "3.11.3"
  },
  "orig_nbformat": 4
 },
 "nbformat": 4,
 "nbformat_minor": 2
}
